{
 "cells": [
  {
   "cell_type": "markdown",
   "metadata": {},
   "source": [
    "# Capstone Project - The Battle of the Neighborhoods in Toronto (Week 1)\n",
    "### Applied Data Science Capstone by IBM/Coursera"
   ]
  },
  {
   "cell_type": "markdown",
   "metadata": {},
   "source": [
    "## Table of contents\n",
    "* [Introduction: Business Problem](#introduction)\n",
    "* [Data](#data)\n",
    "* [Methodology](#methodology)\n",
    "* [Analysis](#analysis)\n",
    "* [Results and Discussion](#results)\n",
    "* [Conclusion](#conclusion)"
   ]
  },
  {
   "cell_type": "markdown",
   "metadata": {},
   "source": [
    "Let's get started with the Introduction and Data related to this project "
   ]
  },
  {
   "cell_type": "markdown",
   "metadata": {},
   "source": [
    "\n",
    "\n",
    "## Introduction: Business Problem <a name=\"introduction\"></a>"
   ]
  },
  {
   "cell_type": "markdown",
   "metadata": {},
   "source": [
    "This notebook demonstrates a **recommendation model** to recommend an optimal location for a new **restauarant** business in the city of **Toronto**.\n",
    "For instance, to recommend an optimal location, ABC Company Ltd has appointed me to lead the Data Science Team. The **goal** is to locate and **recommend** which **neighborhood of Toronto** would be the best choice to start a restaurant serving a **specific type of cuisine**. \n",
    "\n",
    "**Description & Discussion of the Background**\n",
    "\n",
    "Toronto is the provincial capital of Ontario and the most populous city in Canada, with an estimated population of 2,956,024 (2018) and an estimated population of 6,341,935 in the Toronto Region (2018.) Located on the shores of the western end of Lake Ontario, Toronto is an international center of business, finance, arts, and culture. Its large population of immigrants from around the globe has also made Toronto one of the most multicultural and cosmopolitan cities in the world.\n",
    "\n",
    "Toronto is one of Canada's leading tourism destinations. In 2017, the Toronto-area received 43.7 million tourists, of which 10.4 million were domestic visitors and 2.97 million were from the United States, spending a total of $8.84 billion. Toronto has an array of tourist attractions, and a rich cultural life.\n",
    "Restaurant sales in Canada have grown over the past five years from 61 billion Canadian dollars in 2010 to 85 billion Canadian dollars in 2017. That accumulates to an increase of approximately 24 billion Canadian dollars in the Canadian restaurant industry. The same trend holds good for the city of Toronto.\n",
    "\n",
    "Chicago-based foodservice database, marketing, and analytics firm, CHD Expert has new data indicating that independent restaurant operators are making an impact in Toronto’s foodservice market landscape. The new data reveals that 69.3 percent of restaurants in Toronto are independent restaurants, whereas only 63.4 percent of nationwide restaurants are considered independent. The focus was to explore the Canadian restaurant landscape, specifically focusing on Toronto’s independent restaurant operator growth, and popular menu types. Toronto’s landscape is distinctly different than the rest of the country. There are more European menu type restaurants in Toronto than in the rest of Canada, making up 5.3 percent of the Toronto landscape, compared to 3.2 nationwide. Data reveals that 9.6 percent of restaurants in Toronto are Asian, whereas Asian restaurants only account for 6.6 percent nationwide. One of the USA’s favorite menu type ‘hamburger,’ does not have as strong of a presence in Canada and is even less predominant is Toronto. As a nation, approximately 6.1 percent of Canadian restaurants serve a ‘hamburger’ menu type.\n",
    "\n",
    "Considering Toronto’s support for the independent restaurant operators, it is quite evident that starting a restaurant business would earn you more money in comparison to other businesses. As rightly said, “Nothing Comes For Free”, with the profitable business comes also the high competition.  The recommendation system developed here, serve as one of the guides to start a new restaurant business serving a specific type of cuisine like Chinese, American, Indian etc. Also the companies can get benefitted by knowing the best location to start their business, taking into account the competition in that locality. \n",
    "\n",
    "**Problem Description**:\n",
    "\n",
    "Restaurant business involves preparing the food and drinks for the customers in return for the money.  The kind of cuisine each restaurant serves depends on many factors like; location in which it is present, the expertise of the chefs, preferences of the customers etc. Similar is the case with the restaurants in the city of Toronto. Because of the diversity of population living in Toronto, lot of tourists coming in from various parts of the world, there are various kinds of restaurants present. This makes Toronto famous for its wide range of excellent cuisine.\n",
    "Therefore, it is quite evident that, survival in such a competitive market demands a very good strategy from the new companies who are willing to start a restaurant business in the region of Toronto. Accordingly, various factors have to be investigated to decide upon the location and the type cuisine to be served in the restaurant. Few of them are;\n",
    "1. Toronto Population and demographics\n",
    "2. Competitors in that locality\n",
    "3. The cuisine served by the competitors\n",
    "4. Study about the popular venues around that locality – for example, Tourist places, Parks, Theaters etc.\n",
    "5. Study of the locations or neighborhoods based on the Boroughs in which they are present.\n",
    "\n",
    "And the list goes on….\n",
    "\n",
    "Choice of an optimal location to start the business is and first and most important step even for a well-funded companies like ABCs.  If this strategy turns out to be successful for them, they can use the same strategy for their future endeavors.\n",
    "\n",
    "**Target Audience**:\n",
    "\n",
    "For instance, to recommend an optimal location, ABC Company Ltd has appointed me to lead the Data Science Team. The goal is to locate and recommend which neighborhood of Toronto would be the best choice to start a restaurant serving a specific type of cuisine. Of course, all the factors have to be considered while making a recommendation, this would also increase the confidence of the management.\n",
    "\n",
    "**Success Criteria**:\n",
    "\n",
    "A good recommendation of the locality or neighborhood for the restaurant to ABC Company Ltd would be the success criteria for this project.  An ideal recommendation would be the one that is made with the consideration of competition, lack of such restaurant in that location.\n"
   ]
  },
  {
   "cell_type": "markdown",
   "metadata": {},
   "source": [
    "## Data <a name=\"data\"></a>"
   ]
  },
  {
   "cell_type": "markdown",
   "metadata": {},
   "source": [
    "For building the recommendation model, the following data and information is considered for analysis\n",
    "\n",
    "* Scrapped Wikipedia using **BeautifulSoup**, to extract information about **10 Toronto boroughs**, also known as local authority districts. Also, the local areas or **neighborhoods** for each borough are considered for detailed analysis. \n",
    "* **Foursquare API** is used to get **information** about the available **restaurants** in a given **neighborhood and given borough**. The API also provides **information** about the **category** of **restaurants** based on the **cuisine** each restaurant is serving. \n",
    "* The **location** data or **address** in the form of **latitude and longitude** was present for each **neighborhood*** in the form of a **.csv** file. \n"
   ]
  }
 ],
 "metadata": {
  "kernelspec": {
   "display_name": "Python",
   "language": "python",
   "name": "conda-env-python-py"
  },
  "language_info": {
   "codemirror_mode": {
    "name": "ipython",
    "version": 3
   },
   "file_extension": ".py",
   "mimetype": "text/x-python",
   "name": "python",
   "nbconvert_exporter": "python",
   "pygments_lexer": "ipython3",
   "version": "3.6.10"
  }
 },
 "nbformat": 4,
 "nbformat_minor": 4
}
